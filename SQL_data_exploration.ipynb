{
 "cells": [
  {
   "cell_type": "markdown",
   "id": "59c720e6",
   "metadata": {},
   "source": [
    "# Country Club Business Analysis with SQL\n",
    "## Jack Wolfgramm"
   ]
  },
  {
   "cell_type": "markdown",
   "id": "d00cd5fc",
   "metadata": {},
   "source": [
    "Hi, welcome to the business analysis using SQL notebook! The point here is to answer some basic business questions and do some\n",
    "exploratory data analysis using SQL, just like a real data scientist would. I have much more practice writing SQL queries than\n",
    "what I can put in this toy example (various leetcode questions and other projects), but I'm happy with the practice that I get\n",
    "here."
   ]
  },
  {
   "cell_type": "code",
   "execution_count": 19,
   "id": "0394f713",
   "metadata": {},
   "outputs": [],
   "source": [
    "import sqlite3\n",
    "from sqlite3 import Error\n",
    "\n",
    " \n",
    "def create_connection(db_file):\n",
    "    \"\"\" create a database connection to the SQLite database\n",
    "        specified by the db_file\n",
    "    :param db_file: database file\n",
    "    :return: Connection object or None\n",
    "    \"\"\"\n",
    "    conn = None\n",
    "    try:\n",
    "        conn = sqlite3.connect(db_file)\n",
    "        print(sqlite3.version)\n",
    "    except Error as e:\n",
    "        print(e)\n",
    " \n",
    "    return conn\n",
    "\n",
    " \n",
    "def select_all_tasks(conn, query):\n",
    "    \"\"\"\n",
    "    Query all rows in the tasks table\n",
    "    :param conn: the Connection object\n",
    "    :return:\n",
    "    \"\"\"\n",
    "    cur = conn.cursor()\n",
    "    \n",
    "    query1 = query\n",
    "    \n",
    "    cur.execute(query1)\n",
    " \n",
    "    rows = cur.fetchall()\n",
    " \n",
    "    for row in rows:\n",
    "        print(row)"
   ]
  },
  {
   "cell_type": "code",
   "execution_count": 20,
   "id": "025ccecd",
   "metadata": {},
   "outputs": [
    {
     "name": "stdout",
     "output_type": "stream",
     "text": [
      "2.6.0\n"
     ]
    }
   ],
   "source": [
    "# Set the database and connection we will use\n",
    "\n",
    "database = \"sqlite_db_pythonsqlite.db\"\n",
    "conn=create_connection(database)"
   ]
  },
  {
   "cell_type": "markdown",
   "id": "f74283c1",
   "metadata": {},
   "source": [
    "Let's check out what one of the tables looks like!"
   ]
  },
  {
   "cell_type": "code",
   "execution_count": 48,
   "id": "ee3b7b7c",
   "metadata": {},
   "outputs": [
    {
     "name": "stdout",
     "output_type": "stream",
     "text": [
      "(0, 3, 1, '2012-07-03 11:00:00', 2)\n",
      "(1, 4, 1, '2012-07-03 08:00:00', 2)\n",
      "(2, 6, 0, '2012-07-03 18:00:00', 2)\n",
      "(3, 7, 1, '2012-07-03 19:00:00', 2)\n",
      "(4, 8, 1, '2012-07-03 10:00:00', 1)\n",
      "(5, 8, 1, '2012-07-03 15:00:00', 1)\n",
      "(6, 0, 2, '2012-07-04 09:00:00', 3)\n",
      "(7, 0, 2, '2012-07-04 15:00:00', 3)\n",
      "(8, 4, 3, '2012-07-04 13:30:00', 2)\n",
      "(9, 4, 0, '2012-07-04 15:00:00', 2)\n"
     ]
    }
   ],
   "source": [
    "query = \"\"\"\n",
    "SELECT *\n",
    "FROM Bookings\n",
    "LIMIT 10\n",
    "\"\"\"\n",
    "\n",
    "with conn:\n",
    "    select_all_tasks(conn, query)"
   ]
  },
  {
   "cell_type": "markdown",
   "id": "5761a6b2",
   "metadata": {},
   "source": [
    "Some of the facilities charge a fee to members, but some do not.\n",
    "Let's see which ones do."
   ]
  },
  {
   "cell_type": "code",
   "execution_count": 22,
   "id": "237df122",
   "metadata": {},
   "outputs": [
    {
     "name": "stdout",
     "output_type": "stream",
     "text": [
      "('Tennis Court 1',)\n",
      "('Tennis Court 2',)\n",
      "('Massage Room 1',)\n",
      "('Massage Room 2',)\n",
      "('Squash Court',)\n"
     ]
    }
   ],
   "source": [
    "query = \"\"\"\n",
    "SELECT name \n",
    "FROM Facilities \n",
    "WHERE membercost > 0\n",
    "         \"\"\"\n",
    "with conn:\n",
    "    select_all_tasks(conn, query)"
   ]
  },
  {
   "cell_type": "markdown",
   "id": "cc5878d2",
   "metadata": {},
   "source": [
    "How many facilities are free for members?"
   ]
  },
  {
   "cell_type": "code",
   "execution_count": 26,
   "id": "30dbf5e7",
   "metadata": {},
   "outputs": [
    {
     "name": "stdout",
     "output_type": "stream",
     "text": [
      "(4,)\n"
     ]
    }
   ],
   "source": [
    "query= \"\"\"\n",
    "SELECT COUNT(*)\n",
    "FROM Facilities\n",
    "WHERE membercost = 0\n",
    "\"\"\"\n",
    "with conn:\n",
    "    select_all_tasks(conn, query)"
   ]
  },
  {
   "cell_type": "markdown",
   "id": "269ad9bb",
   "metadata": {},
   "source": [
    "Which facilities charge a fee to members, where the fee is less than 20% of the monthly maintenance? "
   ]
  },
  {
   "cell_type": "code",
   "execution_count": 27,
   "id": "9c2059a0",
   "metadata": {},
   "outputs": [
    {
     "name": "stdout",
     "output_type": "stream",
     "text": [
      "(0, 'Tennis Court 1', 5, 200)\n",
      "(1, 'Tennis Court 2', 5, 200)\n",
      "(4, 'Massage Room 1', 9.9, 3000)\n",
      "(5, 'Massage Room 2', 9.9, 3000)\n",
      "(6, 'Squash Court', 3.5, 80)\n"
     ]
    }
   ],
   "source": [
    "query= \"\"\"\n",
    "SELECT facid, \n",
    "       name,\n",
    "       membercost,\n",
    "       monthlymaintenance\n",
    "FROM Facilities\n",
    "WHERE membercost > 0\n",
    "      AND membercost < 0.2 * monthlymaintenance\n",
    "\"\"\"\n",
    "with conn:\n",
    "    select_all_tasks(conn, query)"
   ]
  },
  {
   "cell_type": "markdown",
   "id": "b4467f11",
   "metadata": {},
   "source": [
    "Details of facilities with ID 1 and 5 without using the OR operator"
   ]
  },
  {
   "cell_type": "code",
   "execution_count": 28,
   "id": "5fcb0a32",
   "metadata": {},
   "outputs": [
    {
     "name": "stdout",
     "output_type": "stream",
     "text": [
      "(1, 'Tennis Court 2', 5, 25, 8000, 200)\n",
      "(5, 'Massage Room 2', 9.9, 80, 4000, 3000)\n"
     ]
    }
   ],
   "source": [
    "query= \"\"\"\n",
    "SELECT *\n",
    "FROM Facilities\n",
    "WHERE facid IN (1,5)\n",
    "\"\"\"\n",
    "with conn:\n",
    "    select_all_tasks(conn, query)"
   ]
  },
  {
   "cell_type": "markdown",
   "id": "6da3edc8",
   "metadata": {},
   "source": [
    "List of facilities, with each labelled as 'cheap' or 'expensive', depending \n",
    "on if their monthly maintenance cost is more than $100."
   ]
  },
  {
   "cell_type": "code",
   "execution_count": 29,
   "id": "70eee648",
   "metadata": {},
   "outputs": [
    {
     "name": "stdout",
     "output_type": "stream",
     "text": [
      "('Tennis Court 1', 200, 'expensive')\n",
      "('Tennis Court 2', 200, 'expensive')\n",
      "('Badminton Court', 50, 'cheap')\n",
      "('Table Tennis', 10, 'cheap')\n",
      "('Massage Room 1', 3000, 'expensive')\n",
      "('Massage Room 2', 3000, 'expensive')\n",
      "('Squash Court', 80, 'cheap')\n",
      "('Snooker Table', 15, 'cheap')\n",
      "('Pool Table', 15, 'cheap')\n"
     ]
    }
   ],
   "source": [
    "query= \"\"\"\n",
    "SELECT name,\n",
    "       monthlymaintenance,\n",
    "       CASE WHEN monthlymaintenance < 100 THEN 'cheap'\n",
    "            ELSE 'expensive' END AS cost\n",
    "FROM Facilities\n",
    "\"\"\"\n",
    "with conn:\n",
    "    select_all_tasks(conn, query)"
   ]
  },
  {
   "cell_type": "markdown",
   "id": "1217b1bd",
   "metadata": {},
   "source": [
    "Select the first and last names of latest members"
   ]
  },
  {
   "cell_type": "code",
   "execution_count": 30,
   "id": "77b6a47c",
   "metadata": {},
   "outputs": [
    {
     "name": "stdout",
     "output_type": "stream",
     "text": [
      "('Darren', 'Smith')\n"
     ]
    }
   ],
   "source": [
    "query= \"\"\"\n",
    "SELECT firstname, \n",
    "       surname\n",
    "FROM Members\n",
    "WHERE joindate = (SELECT MAX(joindate)\n",
    "                  FROM Members)\n",
    "\"\"\"\n",
    "with conn:\n",
    "    select_all_tasks(conn, query)"
   ]
  },
  {
   "cell_type": "markdown",
   "id": "d0f76b8b",
   "metadata": {},
   "source": [
    "List of all members who have used a tennis court. Including the name of the \n",
    "court, and the name of the member formatted as a single column. No duplicated data, and ordered by the member name."
   ]
  },
  {
   "cell_type": "code",
   "execution_count": 39,
   "id": "01b45e7e",
   "metadata": {},
   "outputs": [
    {
     "name": "stdout",
     "output_type": "stream",
     "text": [
      "('Bader Florence Tennis Court 2',)\n",
      "('Baker Anne Tennis Court 1',)\n",
      "('Baker Timothy Tennis Court 2',)\n",
      "('Boothe Tim Tennis Court 2',)\n",
      "('Butters Gerald Tennis Court 1',)\n",
      "('Coplin Joan Tennis Court 1',)\n",
      "('Crumpet Erica Tennis Court 1',)\n",
      "('Dare Nancy Tennis Court 2',)\n",
      "('Farrell David Tennis Court 1',)\n",
      "('Farrell Jemima Tennis Court 2',)\n",
      "('GUEST GUEST Tennis Court 2',)\n",
      "('Genting Matthew Tennis Court 1',)\n",
      "('Hunt John Tennis Court 1',)\n",
      "('Jones David Tennis Court 2',)\n",
      "('Jones Douglas Tennis Court 1',)\n",
      "('Joplette Janice Tennis Court 1',)\n",
      "('Owen Charles Tennis Court 1',)\n",
      "('Pinker David Tennis Court 1',)\n",
      "('Purview Millicent Tennis Court 2',)\n",
      "('Rownam Tim Tennis Court 2',)\n",
      "('Rumney Henrietta Tennis Court 2',)\n",
      "('Sarwin Ramnaresh Tennis Court 2',)\n",
      "('Smith Darren Tennis Court 2',)\n",
      "('Smith Jack Tennis Court 1',)\n",
      "('Smith Tracy Tennis Court 1',)\n",
      "('Stibbons Ponder Tennis Court 2',)\n",
      "('Tracy Burton Tennis Court 2',)\n"
     ]
    }
   ],
   "source": [
    "query= \"\"\"\n",
    "SELECT surname || ' ' || firstname || ' ' || \n",
    "       CASE WHEN facid = 0 THEN 'Tennis Court 1' \n",
    "            WHEN facid = 1 THEN 'Tennis Court 2' END AS name_and_court \n",
    "FROM Bookings\n",
    "LEFT JOIN Members\n",
    "On Bookings.memid = Members.memid\n",
    "WHERE Bookings.facid IN (0,1)\n",
    "GROUP BY Members.memid\n",
    "ORDER BY surname, firstname\n",
    "\"\"\"\n",
    "with conn:\n",
    "    select_all_tasks(conn, query)"
   ]
  },
  {
   "cell_type": "markdown",
   "id": "305b467a",
   "metadata": {},
   "source": [
    "List of bookings on the day of 2012-09-14 which will cost the member (or guest) more than $30. Included in the output is the name of the facility, the name of the member formatted as a single column, and the cost. Ordered by descending cost, with no subqueries."
   ]
  },
  {
   "cell_type": "code",
   "execution_count": 55,
   "id": "7e93d1ca",
   "metadata": {},
   "outputs": [
    {
     "name": "stdout",
     "output_type": "stream",
     "text": [
      "('Massage Room 2', 'GUEST', 320)\n",
      "('Massage Room 1', 'GUEST', 160)\n",
      "('Massage Room 1', 'GUEST', 160)\n",
      "('Massage Room 1', 'GUEST', 160)\n",
      "('Tennis Court 2', 'GUEST', 150)\n",
      "('Tennis Court 1', 'GUEST', 75)\n",
      "('Tennis Court 1', 'GUEST', 75)\n",
      "('Tennis Court 2', 'GUEST', 75)\n",
      "('Squash Court', 'GUEST', 70.0)\n",
      "('Massage Room 1', 'Jemima Farrell', 39.6)\n",
      "('Squash Court', 'GUEST', 35.0)\n",
      "('Squash Court', 'GUEST', 35.0)\n"
     ]
    }
   ],
   "source": [
    "query= \"\"\"\n",
    "SELECT f.name,\n",
    "       CASE WHEN m.memid != 0 THEN m.firstname || ' ' || m.surname\n",
    "            ELSE  m.firstname END AS name,\n",
    "        CASE WHEN m.memid != 0 THEN slots*membercost \n",
    "            ELSE slots*guestcost END AS cost\n",
    "FROM Bookings AS b\n",
    "LEFT JOIN Facilities AS f\n",
    "ON b.facid = f.facid\n",
    "LEFT JOIN Members AS m\n",
    "ON b.memid = m.memid\n",
    "WHERE strftime('%Y%m%d', starttime)='20120914' AND\n",
    "      cost>30\n",
    "ORDER BY cost DESC\n",
    "\"\"\"\n",
    "with conn:\n",
    "    select_all_tasks(conn, query)"
   ]
  },
  {
   "cell_type": "markdown",
   "id": "16537c94",
   "metadata": {},
   "source": [
    "Same as before, but using a subquery!"
   ]
  },
  {
   "cell_type": "code",
   "execution_count": 56,
   "id": "4c71c0dc",
   "metadata": {},
   "outputs": [
    {
     "name": "stdout",
     "output_type": "stream",
     "text": [
      "('Massage Room 2', 'GUEST', 320)\n",
      "('Massage Room 1', 'GUEST', 160)\n",
      "('Massage Room 1', 'GUEST', 160)\n",
      "('Massage Room 1', 'GUEST', 160)\n",
      "('Tennis Court 2', 'GUEST', 150)\n",
      "('Tennis Court 1', 'GUEST', 75)\n",
      "('Tennis Court 1', 'GUEST', 75)\n",
      "('Tennis Court 2', 'GUEST', 75)\n",
      "('Squash Court', 'GUEST', 70.0)\n",
      "('Massage Room 1', 'Farrell Jemima', 39.6)\n",
      "('Squash Court', 'GUEST', 35.0)\n",
      "('Squash Court', 'GUEST', 35.0)\n"
     ]
    }
   ],
   "source": [
    "query= \"\"\"\n",
    "SELECT facility_name,\n",
    "       name,\n",
    "       cost\n",
    "FROM (SELECT name AS facility_name,\n",
    "      CASE WHEN m.memid != 0 THEN surname || ' ' || firstname \n",
    "      ELSE \"GUEST\" END AS name,b.facid,\n",
    "      b.starttime,\n",
    "      b.memid,\n",
    "      CASE WHEN m.memid != 0 THEN slots*membercost \n",
    "      ELSE slots*guestcost END AS cost\n",
    "      FROM Bookings AS b\n",
    "      INNER JOIN Members AS m\n",
    "      ON b.memid = m.memid\n",
    "      INNER JOIN Facilities AS f\n",
    "      ON b.facid = f.facid) AS b\n",
    "WHERE strftime('%Y%m%d', starttime)='20120914' AND\n",
    "      cost>30\n",
    "ORDER BY cost DESC\n",
    "\"\"\"\n",
    "with conn:\n",
    "    select_all_tasks(conn, query)"
   ]
  },
  {
   "cell_type": "markdown",
   "id": "6771766e",
   "metadata": {},
   "source": [
    "List of facilities with a toal revenue less than 1000."
   ]
  },
  {
   "cell_type": "code",
   "execution_count": 58,
   "id": "f8770607",
   "metadata": {},
   "outputs": [
    {
     "name": "stdout",
     "output_type": "stream",
     "text": [
      "(270.0, 'Pool Table')\n",
      "(240.0, 'Snooker Table')\n",
      "(180.0, 'Table Tennis')\n"
     ]
    }
   ],
   "source": [
    "query= \"\"\"\n",
    "SELECT cost,\n",
    "       name\n",
    "FROM (SELECT ROUND(SUM(CASE WHEN b.memid != 0 THEN slots*membercost\n",
    "                             ELSE slots*guestcost END),2) AS cost,\n",
    "             name\n",
    "      FROM Bookings AS b\n",
    "      LEFT JOIN Facilities AS f\n",
    "      ON b.facid = f.facid\n",
    "      GROUP BY f.facid) AS f\n",
    "WHERE cost < 1000\n",
    "GROUP BY name\n",
    "ORDER BY cost DESC\n",
    "\"\"\"\n",
    "with conn:\n",
    "    select_all_tasks(conn, query)"
   ]
  },
  {
   "cell_type": "markdown",
   "id": "75ba3117",
   "metadata": {},
   "source": [
    "Report of members and who recommended them in alphabetic surnam, firstname order"
   ]
  },
  {
   "cell_type": "code",
   "execution_count": 59,
   "id": "6dae967a",
   "metadata": {},
   "outputs": [
    {
     "name": "stdout",
     "output_type": "stream",
     "text": [
      "('Bader', 'Florence', 'Stibbons', 'Ponder')\n",
      "('Baker', 'Anne', 'Stibbons', 'Ponder')\n",
      "('Baker', 'Timothy', 'Farrell', 'Jemima')\n",
      "('Boothe', 'Tim', 'Rownam', 'Tim')\n",
      "('Butters', 'Gerald', 'Smith', 'Darren')\n",
      "('Coplin', 'Joan', 'Baker', 'Timothy')\n",
      "('Crumpet', 'Erica', 'Smith', 'Tracy')\n",
      "('Dare', 'Nancy', 'Joplette', 'Janice')\n",
      "('Farrell', 'David', None, None)\n",
      "('Farrell', 'Jemima', None, None)\n",
      "('GUEST', 'GUEST', None, None)\n",
      "('Genting', 'Matthew', 'Butters', 'Gerald')\n",
      "('Hunt', 'John', 'Purview', 'Millicent')\n",
      "('Jones', 'David', 'Joplette', 'Janice')\n",
      "('Jones', 'Douglas', 'Jones', 'David')\n",
      "('Joplette', 'Janice', 'Smith', 'Darren')\n",
      "('Mackenzie', 'Anna', 'Smith', 'Darren')\n",
      "('Owen', 'Charles', 'Smith', 'Darren')\n",
      "('Pinker', 'David', 'Farrell', 'Jemima')\n",
      "('Purview', 'Millicent', 'Smith', 'Tracy')\n",
      "('Rownam', 'Tim', None, None)\n",
      "('Rumney', 'Henrietta', 'Genting', 'Matthew')\n",
      "('Sarwin', 'Ramnaresh', 'Bader', 'Florence')\n",
      "('Smith', 'Darren', None, None)\n",
      "('Smith', 'Darren', None, None)\n",
      "('Smith', 'Jack', 'Smith', 'Darren')\n",
      "('Smith', 'Tracy', None, None)\n",
      "('Stibbons', 'Ponder', 'Tracy', 'Burton')\n",
      "('Tracy', 'Burton', None, None)\n",
      "('Tupperware', 'Hyacinth', None, None)\n",
      "('Worthington-Smyth', 'Henry', 'Smith', 'Tracy')\n"
     ]
    }
   ],
   "source": [
    "query= \"\"\"\n",
    "SELECT m1.surname AS surname,\n",
    "       m1.firstname AS firstname,\n",
    "       m2.surname AS recommender_surname,\n",
    "       m2.firstname AS recommender_firstname\n",
    "FROM Members AS m1\n",
    "LEFT JOIN Members AS m2\n",
    "ON m1.recommendedby = m2.memid\n",
    "ORDER BY surname, firstname\n",
    "\"\"\"\n",
    "with conn:\n",
    "    select_all_tasks(conn, query)"
   ]
  },
  {
   "cell_type": "markdown",
   "id": "83daff68",
   "metadata": {},
   "source": [
    "List of facilities with their usage by member, but not guest"
   ]
  },
  {
   "cell_type": "code",
   "execution_count": 62,
   "id": "e6605679",
   "metadata": {},
   "outputs": [
    {
     "name": "stdout",
     "output_type": "stream",
     "text": [
      "(408, 'Tennis Court 1')\n",
      "(389, 'Tennis Court 2')\n",
      "(383, 'Badminton Court')\n",
      "(403, 'Table Tennis')\n",
      "(629, 'Massage Room 1')\n",
      "(111, 'Massage Room 2')\n",
      "(440, 'Squash Court')\n",
      "(444, 'Snooker Table')\n",
      "(836, 'Pool Table')\n"
     ]
    }
   ],
   "source": [
    "query= \"\"\"\n",
    "SELECT COUNT(CASE WHEN b.memid != 0 AND b.memid IS NOT NULL THEN 1\n",
    "                  ELSE 0 END),\n",
    "       f.name\n",
    "FROM facilities AS f\n",
    "LEFT JOIN Bookings AS b\n",
    "ON b.facid = f.facid\n",
    "GROUP BY b.facid\n",
    "\"\"\"\n",
    "with conn:\n",
    "    select_all_tasks(conn, query)"
   ]
  },
  {
   "cell_type": "markdown",
   "id": "9be4e9be",
   "metadata": {},
   "source": [
    "List of facilities with their usage by month, but not guest"
   ]
  },
  {
   "cell_type": "code",
   "execution_count": 69,
   "id": "88477cb7",
   "metadata": {},
   "outputs": [
    {
     "name": "stdout",
     "output_type": "stream",
     "text": [
      "(56, '07', 'Badminton Court')\n",
      "(123, '07', 'Massage Room 1')\n",
      "(12, '07', 'Massage Room 2')\n",
      "(110, '07', 'Pool Table')\n",
      "(75, '07', 'Snooker Table')\n",
      "(75, '07', 'Squash Court')\n",
      "(51, '07', 'Table Tennis')\n",
      "(88, '07', 'Tennis Court 1')\n",
      "(68, '07', 'Tennis Court 2')\n",
      "(146, '08', 'Badminton Court')\n",
      "(224, '08', 'Massage Room 1')\n",
      "(40, '08', 'Massage Room 2')\n",
      "(291, '08', 'Pool Table')\n",
      "(159, '08', 'Snooker Table')\n",
      "(170, '08', 'Squash Court')\n",
      "(147, '08', 'Table Tennis')\n",
      "(146, '08', 'Tennis Court 1')\n",
      "(149, '08', 'Tennis Court 2')\n",
      "(181, '09', 'Badminton Court')\n",
      "(282, '09', 'Massage Room 1')\n",
      "(59, '09', 'Massage Room 2')\n",
      "(435, '09', 'Pool Table')\n",
      "(210, '09', 'Snooker Table')\n",
      "(195, '09', 'Squash Court')\n",
      "(205, '09', 'Table Tennis')\n",
      "(174, '09', 'Tennis Court 1')\n",
      "(172, '09', 'Tennis Court 2')\n"
     ]
    }
   ],
   "source": [
    "query= \"\"\"\n",
    "SELECT COUNT(CASE WHEN b.memid != 0 AND b.memid IS NOT NULL THEN 1\n",
    "                  ELSE 0 END),\n",
    "       strftime('%m', starttime) AS month,\n",
    "       f.name\n",
    "FROM facilities AS f\n",
    "LEFT OUTER JOIN Bookings AS b\n",
    "ON b.facid = f.facid\n",
    "GROUP BY month, f.name\n",
    "\"\"\"\n",
    "with conn:\n",
    "    select_all_tasks(conn, query)"
   ]
  },
  {
   "cell_type": "markdown",
   "id": "7fddb6cd",
   "metadata": {},
   "source": [
    "That marks the end of the queries! If you got to the bottom, I am extremely impressed at your ability to scroll down to the bottom of pages without reading most of the contents!"
   ]
  },
  {
   "cell_type": "code",
   "execution_count": null,
   "id": "a8a5a155",
   "metadata": {},
   "outputs": [],
   "source": []
  }
 ],
 "metadata": {
  "kernelspec": {
   "display_name": "Python 3 (ipykernel)",
   "language": "python",
   "name": "python3"
  },
  "language_info": {
   "codemirror_mode": {
    "name": "ipython",
    "version": 3
   },
   "file_extension": ".py",
   "mimetype": "text/x-python",
   "name": "python",
   "nbconvert_exporter": "python",
   "pygments_lexer": "ipython3",
   "version": "3.9.7"
  }
 },
 "nbformat": 4,
 "nbformat_minor": 5
}
